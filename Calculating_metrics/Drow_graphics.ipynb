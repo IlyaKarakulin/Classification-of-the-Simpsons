{
 "cells": [
  {
   "cell_type": "code",
   "execution_count": null,
   "metadata": {},
   "outputs": [],
   "source": [
    "import pandas as pd\n",
    "import matplotlib.pyplot as plt"
   ]
  },
  {
   "cell_type": "code",
   "execution_count": 1,
   "metadata": {},
   "outputs": [
    {
     "ename": "NameError",
     "evalue": "name 'pd' is not defined",
     "output_type": "error",
     "traceback": [
      "\u001b[0;31m---------------------------------------------------------------------------\u001b[0m",
      "\u001b[0;31mNameError\u001b[0m                                 Traceback (most recent call last)",
      "Cell \u001b[0;32mIn[1], line 2\u001b[0m\n\u001b[1;32m      1\u001b[0m \u001b[38;5;66;03m# Загрузка данных\u001b[39;00m\n\u001b[0;32m----> 2\u001b[0m df \u001b[38;5;241m=\u001b[39m \u001b[43mpd\u001b[49m\u001b[38;5;241m.\u001b[39mread_csv(\u001b[38;5;124m'\u001b[39m\u001b[38;5;124m/home/i.karakulin/Classification-of-the-Simpsons/meta_data/test_metric.csv\u001b[39m\u001b[38;5;124m'\u001b[39m)\n\u001b[1;32m      3\u001b[0m df[\u001b[38;5;124m'\u001b[39m\u001b[38;5;124mClass\u001b[39m\u001b[38;5;124m'\u001b[39m] \u001b[38;5;241m=\u001b[39m df[\u001b[38;5;124m'\u001b[39m\u001b[38;5;124mClass\u001b[39m\u001b[38;5;124m'\u001b[39m]\u001b[38;5;241m.\u001b[39mastype(\u001b[38;5;28mstr\u001b[39m)\n\u001b[1;32m      5\u001b[0m \u001b[38;5;66;03m# Вычисление средних значений\u001b[39;00m\n",
      "\u001b[0;31mNameError\u001b[0m: name 'pd' is not defined"
     ]
    }
   ],
   "source": [
    "# Загрузка данных\n",
    "df = pd.read_csv('/home/i.karakulin/Classification-of-the-Simpsons/meta_data/test_metric.csv')\n",
    "df['Class'] = df['Class'].astype(str)\n",
    "\n",
    "# Вычисление средних значений\n",
    "mean_precision = df['Precision'].mean()\n",
    "mean_recall = df['Recall'].mean()\n",
    "mean_f1 = df['F1'].mean()\n",
    "\n",
    "plt.style.use('seaborn-v0_8')\n",
    "colors = ['#1f77b4', '#ff7f0e', '#2ca02c']\n",
    "fig, axes = plt.subplots(1, 3, figsize=(18, 14))\n",
    "\n",
    "for i, (ax, metric, color) in enumerate(zip(axes, ['Precision', 'Recall', 'F1'], colors)):\n",
    "    bars = ax.barh(df['Class'], df[metric], color=color, alpha=0.8, height=0.8)\n",
    "    \n",
    "    mean_value = globals()[f'mean_{metric.lower()}']\n",
    "    ax.axvline(mean_value, color='red', linestyle='--', linewidth=2, alpha=0.8)\n",
    "    \n",
    "    ax.set_xlim(0, 1.01)\n",
    "    ax.grid(axis='x', linestyle='--', alpha=0.7)\n",
    "    ax.set_title(metric, fontsize=14, pad=12)\n",
    "    \n",
    "    if i == 0:\n",
    "        ax.tick_params(axis='y', labelsize=10)\n",
    "    else:\n",
    "        ax.tick_params(axis='y', labelleft=False)\n",
    "\n",
    "print(mean_value)\n",
    "\n",
    "plt.tight_layout(pad=2.0)\n",
    "plt.savefig('metrics_on_test.png', dpi=300, bbox_inches='tight')\n",
    "plt.show()"
   ]
  }
 ],
 "metadata": {
  "kernelspec": {
   "display_name": "DL",
   "language": "python",
   "name": "python3"
  },
  "language_info": {
   "codemirror_mode": {
    "name": "ipython",
    "version": 3
   },
   "file_extension": ".py",
   "mimetype": "text/x-python",
   "name": "python",
   "nbconvert_exporter": "python",
   "pygments_lexer": "ipython3",
   "version": "3.10.12"
  }
 },
 "nbformat": 4,
 "nbformat_minor": 2
}
