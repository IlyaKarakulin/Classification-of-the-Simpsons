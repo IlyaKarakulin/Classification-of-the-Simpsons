{
 "cells": [
  {
   "cell_type": "code",
   "execution_count": 2,
   "metadata": {},
   "outputs": [],
   "source": [
    "import os\n",
    "import shutil"
   ]
  },
  {
   "cell_type": "code",
   "execution_count": 16,
   "metadata": {},
   "outputs": [],
   "source": [
    "path_to_test = '/home/ilya/.cache/kagglehub/datasets/alexattia/the-simpsons-characters-dataset/versions/4/kaggle_simpson_testset/kaggle_simpson_testset'\n",
    "path_to_new_test = '/home/ilya/.cache/kagglehub/datasets/alexattia/the-simpsons-characters-dataset/versions/4/kaggle_simpson_testset/prepare_testset'"
   ]
  },
  {
   "cell_type": "code",
   "execution_count": 10,
   "metadata": {},
   "outputs": [],
   "source": [
    "classes_in_train = set(['selma_bouvier', 'mayor_quimby', 'milhouse_van_houten', 'martin_prince', 'sideshow_bob', 'apu_nahasapeemapetilon', 'marge_simpson', 'ralph_wiggum', 'ned_flanders', 'gil', 'homer_simpson', 'fat_tony', 'chief_wiggum', 'groundskeeper_willie', 'barney_gumble', 'lenny_leonard', 'principal_skinner', 'agnes_skinner', 'krusty_the_clown', 'snake_jailbird', 'waylon_smithers', 'rainier_wolfcastle', 'lionel_hutz', 'kent_brockman', 'cletus_spuckler', 'disco_stu', 'comic_book_guy', 'abraham_grampa_simpson', 'maggie_simpson', 'sideshow_mel', 'nelson_muntz', 'miss_hoover', 'bart_simpson', 'edna_krabappel', 'moe_szyslak', 'charles_montgomery_burns', 'patty_bouvier', 'otto_mann', 'lisa_simpson', 'troy_mcclure', 'professor_john_frink', 'carl_carlson'])"
   ]
  },
  {
   "cell_type": "code",
   "execution_count": 5,
   "metadata": {},
   "outputs": [
    {
     "data": {
      "text/plain": [
       "{'abraham_grampa_simpson',\n",
       " 'apu_nahasapeemapetilon',\n",
       " 'bart_simpson',\n",
       " 'charles_montgomery_burns',\n",
       " 'chief_wiggum',\n",
       " 'comic_book_guy',\n",
       " 'edna_krabappel',\n",
       " 'homer_simpson',\n",
       " 'kent_brockman',\n",
       " 'krusty_the_clown',\n",
       " 'lenny_leonard',\n",
       " 'lisa_simpson',\n",
       " 'marge_simpson',\n",
       " 'mayor_quimby',\n",
       " 'milhouse_van_houten',\n",
       " 'moe_szyslak',\n",
       " 'ned_flanders',\n",
       " 'nelson_muntz',\n",
       " 'principal_skinner',\n",
       " 'sideshow_bob'}"
      ]
     },
     "execution_count": 5,
     "metadata": {},
     "output_type": "execute_result"
    }
   ],
   "source": [
    "files = os.listdir(path_to_test)\n",
    "classes = set(\"_\".join(f.split(\"_\")[:-1]) for f in files)\n",
    "classes"
   ]
  },
  {
   "cell_type": "code",
   "execution_count": 12,
   "metadata": {},
   "outputs": [
    {
     "data": {
      "text/plain": [
       "{'agnes_skinner',\n",
       " 'barney_gumble',\n",
       " 'carl_carlson',\n",
       " 'cletus_spuckler',\n",
       " 'disco_stu',\n",
       " 'fat_tony',\n",
       " 'gil',\n",
       " 'groundskeeper_willie',\n",
       " 'lionel_hutz',\n",
       " 'maggie_simpson',\n",
       " 'martin_prince',\n",
       " 'miss_hoover',\n",
       " 'otto_mann',\n",
       " 'patty_bouvier',\n",
       " 'professor_john_frink',\n",
       " 'rainier_wolfcastle',\n",
       " 'ralph_wiggum',\n",
       " 'selma_bouvier',\n",
       " 'sideshow_mel',\n",
       " 'snake_jailbird',\n",
       " 'troy_mcclure',\n",
       " 'waylon_smithers'}"
      ]
     },
     "execution_count": 12,
     "metadata": {},
     "output_type": "execute_result"
    }
   ],
   "source": [
    "classes_in_train - classes"
   ]
  },
  {
   "cell_type": "code",
   "execution_count": 17,
   "metadata": {},
   "outputs": [],
   "source": [
    "os.makedirs(path_to_new_test, exist_ok=True)\n",
    "\n",
    "for class_name in classes:\n",
    "    class_dir = os.path.join(path_to_new_test, class_name)\n",
    "    os.makedirs(class_dir, exist_ok=True)"
   ]
  },
  {
   "cell_type": "code",
   "execution_count": 18,
   "metadata": {},
   "outputs": [],
   "source": [
    "for filename in files:\n",
    "    class_part = \"_\".join(filename.split(\"_\")[:-1])\n",
    "    \n",
    "    src_path = os.path.join(path_to_test, filename)\n",
    "    \n",
    "    dst_dir = os.path.join(path_to_new_test, class_part)\n",
    "\n",
    "    shutil.copy(src_path, dst_dir)\n"
   ]
  }
 ],
 "metadata": {
  "kernelspec": {
   "display_name": "DL",
   "language": "python",
   "name": "python3"
  },
  "language_info": {
   "codemirror_mode": {
    "name": "ipython",
    "version": 3
   },
   "file_extension": ".py",
   "mimetype": "text/x-python",
   "name": "python",
   "nbconvert_exporter": "python",
   "pygments_lexer": "ipython3",
   "version": "3.10.13"
  }
 },
 "nbformat": 4,
 "nbformat_minor": 2
}
